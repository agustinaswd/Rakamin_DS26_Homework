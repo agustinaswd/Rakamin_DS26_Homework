{
  "nbformat": 4,
  "nbformat_minor": 0,
  "metadata": {
    "kernelspec": {
      "display_name": "blenv3",
      "language": "python",
      "name": "blenv3"
    },
    "language_info": {
      "codemirror_mode": {
        "name": "ipython",
        "version": 3
      },
      "file_extension": ".py",
      "mimetype": "text/x-python",
      "name": "python",
      "nbconvert_exporter": "python",
      "pygments_lexer": "ipython3",
      "version": "3.6.8"
    },
    "toc": {
      "base_numbering": 1,
      "nav_menu": {},
      "number_sections": true,
      "sideBar": true,
      "skip_h1_title": false,
      "title_cell": "Table of Contents",
      "title_sidebar": "Contents",
      "toc_cell": false,
      "toc_position": {},
      "toc_section_display": true,
      "toc_window_display": true
    },
    "colab": {
      "provenance": []
    }
  },
  "cells": [
    {
      "cell_type": "markdown",
      "metadata": {
        "heading_collapsed": true,
        "id": "IQZPHNVGE0jj"
      },
      "source": [
        "# Homework Introduction to Python"
      ]
    },
    {
      "cell_type": "markdown",
      "metadata": {
        "hidden": true,
        "id": "yKMR8ypqE0jn"
      },
      "source": [
        "$\\textbf{Ubah nama di bawah yaa!}$"
      ]
    },
    {
      "cell_type": "markdown",
      "metadata": {
        "hidden": true,
        "id": "bQ7VJlKEE0jo"
      },
      "source": [
        "- Nama: Agustina Sri Wardani\n",
        "- IPK : umm"
      ]
    },
    {
      "cell_type": "code",
      "metadata": {
        "ExecuteTime": {
          "end_time": "2020-11-12T13:26:22.209983Z",
          "start_time": "2020-11-12T13:26:21.360470Z"
        },
        "hidden": true,
        "id": "4g2oLkevE0jo"
      },
      "source": [
        "import numpy as np"
      ],
      "execution_count": null,
      "outputs": []
    },
    {
      "cell_type": "markdown",
      "metadata": {
        "id": "cgd-tTOjE0jr"
      },
      "source": [
        "# Normal"
      ]
    },
    {
      "cell_type": "markdown",
      "metadata": {
        "heading_collapsed": true,
        "id": "ed8OiWGeE0jr"
      },
      "source": [
        "## 1. Operasi Variabel\n",
        "\n",
        "> Misal kita memiliki toko sepatu. Modal membeli 1 kodi sepatu adalah Rp 1.000.000. Setiap sepatu dijual seharga Rp 80.000. Buatlah variabel modal, kuantitas, dan harga_jual sesuai informasi di atas. Hitung profit yang didapatkan jika semua sepatu berhasil terjual, dan masukkan ke variabel profit.\n"
      ]
    },
    {
      "cell_type": "code",
      "metadata": {
        "ExecuteTime": {
          "end_time": "2021-10-23T10:20:16.843127Z",
          "start_time": "2021-10-23T10:20:16.835236Z"
        },
        "hidden": true,
        "scrolled": true,
        "id": "ThOB9tEME0js",
        "colab": {
          "base_uri": "https://localhost:8080/"
        },
        "outputId": "040a7fc0-f0df-4552-dc60-070730573eb7"
      },
      "source": [
        "#1 kodi = 20 pcs\n",
        "modal = 1000000 #modal 1 kodi\n",
        "kuantitas = 20\n",
        "harga_jual = 80000\n",
        "\n",
        "profit = ((harga_jual * kuantitas) - modal)\n",
        "print(profit)"
      ],
      "execution_count": null,
      "outputs": [
        {
          "output_type": "stream",
          "name": "stdout",
          "text": [
            "600000\n"
          ]
        }
      ]
    },
    {
      "cell_type": "markdown",
      "metadata": {
        "hidden": true,
        "id": "8GaDbS89E0js"
      },
      "source": [
        "Jadi, dari profit di atas, dapat disimpulkan bahwa toko sepatu memperoleh untung sebesar 600.000 jika semua sepatu berhasil terjual"
      ]
    },
    {
      "cell_type": "markdown",
      "metadata": {
        "id": "5oTZCAI4E0ju"
      },
      "source": [
        "## 2. Package Python dan Dictionary\n",
        "\n",
        "> Kita akan coba mengakses data scientific article dari PLOS corpus\n",
        "    Menggunakan API request dengan kode berikut : \n",
        "```\n",
        "import requests\n",
        "response = requests.get('http://api.plos.org/search?q=title:\"Drosophila\" AND body:\"RNA\"&fl=id,abstract')\n",
        "```\n",
        "**perhatikan tanda kutipnya tidak salah ketika meng-copy ke dalam python\n",
        "\n",
        "Pertanyaannya : \n",
        "Convert response.content dari request tersebut dari JSON Format ke dalam Dictionary, dan print-kan key di dalamnya apa saja\n",
        "\n",
        "\n"
      ]
    },
    {
      "cell_type": "code",
      "source": [
        "import requests\n",
        "response = requests.get('http://api.plos.org/search?q=title:\"Drosophila\" AND body:\"RNA\"&fl=id,abstract')\n",
        "\n",
        "import json\n",
        "dataset = json.loads(response.content)\n",
        "\n",
        "dataset.keys()"
      ],
      "metadata": {
        "colab": {
          "base_uri": "https://localhost:8080/"
        },
        "id": "J84_XCVF-UIM",
        "outputId": "e76df50f-84ba-4c6d-9585-14b1134c1004"
      },
      "execution_count": null,
      "outputs": [
        {
          "output_type": "execute_result",
          "data": {
            "text/plain": [
              "dict_keys(['response'])"
            ]
          },
          "metadata": {},
          "execution_count": 4
        }
      ]
    },
    {
      "cell_type": "markdown",
      "metadata": {
        "id": "rvQnd_NgE0jv"
      },
      "source": [
        "Jadi, dari url link di atas, kami menyimpulkan bahwa memiliki keys **response**"
      ]
    },
    {
      "cell_type": "markdown",
      "metadata": {
        "id": "wWstgpwIPDwR"
      },
      "source": [
        "# Intermediate"
      ]
    },
    {
      "cell_type": "markdown",
      "metadata": {
        "id": "AI0lJNgDE0jv"
      },
      "source": [
        "## 3. Operasi dalam List\n",
        "\n",
        "> Buatlah list dengan 10 nama kota di indonesia, kemudian:\n",
        "1. Urutkan nama kota di dalam list berdasarkan abjad (a)\n",
        "2. Ambil 4 kota pertama dari list tersebut (yang telah diurutkan) (b)\n",
        "3. Ambil 3 kota terakhir dari list tersebut (yang telah diurutkan) (c)\n",
        "\n"
      ]
    },
    {
      "cell_type": "code",
      "metadata": {
        "ExecuteTime": {
          "end_time": "2021-10-23T10:20:47.306584Z",
          "start_time": "2021-10-23T10:20:47.299827Z"
        },
        "scrolled": true,
        "id": "piGxWfIAE0jw",
        "colab": {
          "base_uri": "https://localhost:8080/"
        },
        "outputId": "411754e1-5abc-4408-b8cc-6ca0db9507ac"
      },
      "source": [
        "# daftar 10 kota\n",
        "\n",
        "kota = ['Batam', 'Tanjungpinang', 'Tanjung Uban', 'Bintan', 'Moro', 'Karimun', 'Natuna', 'Tanjung Batu', 'Lingga', 'Galang']\n",
        "\n",
        "kota_disusun = sorted(kota) #disusun berdasarkan abjad\n",
        "print(kota_disusun)\n",
        "\n",
        "kota_disusun1 = kota_disusun[0:4] #4 kota pertama dari list kota\n",
        "print(kota_disusun1)\n",
        "\n",
        "kota_disusun2 = kota_disusun[7:] #3 kota terakhir dari list kta\n",
        "print(kota_disusun2)"
      ],
      "execution_count": null,
      "outputs": [
        {
          "output_type": "stream",
          "name": "stdout",
          "text": [
            "['Batam', 'Bintan', 'Galang', 'Karimun', 'Lingga', 'Moro', 'Natuna', 'Tanjung Batu', 'Tanjung Uban', 'Tanjungpinang']\n",
            "['Batam', 'Bintan', 'Galang', 'Karimun']\n",
            "['Tanjung Batu', 'Tanjung Uban', 'Tanjungpinang']\n"
          ]
        }
      ]
    },
    {
      "cell_type": "markdown",
      "metadata": {
        "id": "FpbGs5EaE0jw"
      },
      "source": [
        "Jadi, dari operasi list di atas, dapat disimpulkan bahwa 10 kota/kabupaten/pulau di Kepulauan Riau diantaranya Batam, Bintan, Galang, Karimun, Lingga, Moro, Natuna, Tanjung Batu, Tanjung Uban, Tanjungpinang"
      ]
    },
    {
      "cell_type": "markdown",
      "metadata": {
        "id": "6nanVjCCE0jx"
      },
      "source": [
        "## 4. Function dalam List\n",
        "\n",
        "> Team sales memiliki list total transaksi dari 10 merchant pada bulan Juni 2020, yaitu: \n",
        "```\n",
        "total_transaksi = [ 19, 35, 23, 25, 10, 15, 33, 45, 21, 30 ]\n",
        "```\n",
        "1. Trx minimum\n",
        "2. Rata-rata \n",
        "3. Trx maksimal\n",
        "\n"
      ]
    },
    {
      "cell_type": "code",
      "metadata": {
        "ExecuteTime": {
          "end_time": "2021-10-23T10:20:52.903045Z",
          "start_time": "2021-10-23T10:20:52.894900Z"
        },
        "scrolled": true,
        "id": "HxvjrB2RE0jx",
        "colab": {
          "base_uri": "https://localhost:8080/"
        },
        "outputId": "d9daee3e-5234-47f8-d189-2ece936a3782"
      },
      "source": [
        "total_transaksi = [19, 35, 23, 25, 10, 15, 33, 45, 21, 30]\n",
        "\n",
        "#transaksi minimal\n",
        "trx_min = min(total_transaksi)\n",
        "print(trx_min)\n",
        "\n",
        "#rata-rata transaksi\n",
        "rata2 = sum(total_transaksi) / len(total_transaksi)\n",
        "print(rata2)\n",
        "\n",
        "#transaksi maksimal\n",
        "trx_max = max(total_transaksi)\n",
        "print(trx_max)"
      ],
      "execution_count": null,
      "outputs": [
        {
          "output_type": "stream",
          "name": "stdout",
          "text": [
            "10\n",
            "25.6\n",
            "45\n"
          ]
        }
      ]
    },
    {
      "cell_type": "markdown",
      "metadata": {
        "id": "UgHXbAOqE0jx"
      },
      "source": [
        "Jadi, dari hasil operasi list di atas, dapat disimpulkan bahwa nilai minimal transaksi dari 10 merchant adalah 10, nilai maksimal adalah 45, dan rata-ratanya adalah 25.6"
      ]
    },
    {
      "cell_type": "markdown",
      "metadata": {
        "id": "f4EkwISgE0jx"
      },
      "source": [
        "# Advanced"
      ]
    },
    {
      "cell_type": "markdown",
      "metadata": {
        "id": "fmaX-pu5E0jy"
      },
      "source": [
        "## 5. NumPy Array\n",
        "\n",
        "> Buatlah array dari 5 bilangan ganjil pertama (dimulai dari 1), Kemudian lakukan perintah berikut : \n",
        "1. Kali-kan array tersebut dengan 10\n",
        "2. Bagi-kan array (hasil dari bagian a) dengan 3\n",
        "3. Kali-kan array (hasil dari bagian b) dengan array baru :\n",
        "`[-45, 43, 3, 56, 5]`\n",
        "4. Carilah pada index ke-berapa nilai tertinggi dan terendah dari array (hasil dari bagian c) \n",
        "\n",
        "\n"
      ]
    },
    {
      "cell_type": "code",
      "metadata": {
        "ExecuteTime": {
          "end_time": "2021-10-23T10:20:59.988806Z",
          "start_time": "2021-10-23T10:20:59.980744Z"
        },
        "scrolled": true,
        "id": "VTTOjU8wE0jy",
        "colab": {
          "base_uri": "https://localhost:8080/"
        },
        "outputId": "e3f50be0-88a5-44cc-adf1-0038bd98e192"
      },
      "source": [
        "import numpy as np\n",
        "array1 = np.array([1.234567, 2.345678])\n",
        "print(np.round_(array1, decimals=2))"
      ],
      "execution_count": null,
      "outputs": [
        {
          "output_type": "stream",
          "name": "stdout",
          "text": [
            "[1.23 2.35]\n"
          ]
        }
      ]
    },
    {
      "cell_type": "code",
      "source": [
        "import numpy as np\n",
        "ganjil = [1, 3, 5, 7, 9] #5 bilangan ganjil pertama dimulai dari dari 1\n",
        "bilangan_ganjil = np.array(ganjil)\n",
        "print(np.round_(bilangan_ganjil, decimals=2))\n",
        "\n",
        "#mengalikan array dengan 10\n",
        "kali = bilangan_ganjil * 10\n",
        "print(kali)\n",
        "\n",
        "#membagi array dengan 3\n",
        "bagi = bilangan_ganjil / 3\n",
        "print(bagi)\n",
        "\n",
        "#mengalikan hasil bagi b dengan array [-45, 43, 3, 56, 5]\n",
        "new_array = [-45, 43, 3, 56, 5]\n",
        "kalikan = bagi * new_array\n",
        "print(kalikan)\n",
        "\n",
        "#index nilai tertinggi dan terandah\n",
        "index_maksimal = np.argmax(kalikan)\n",
        "print(index_maksimal)\n",
        "\n",
        "index_minimal = np.argmin(kalikan)\n",
        "print(index_minimal)\n",
        "\n",
        "\n"
      ],
      "metadata": {
        "colab": {
          "base_uri": "https://localhost:8080/"
        },
        "id": "DmyrZDoa7phs",
        "outputId": "3d2e70fb-5dd5-4e6c-cf2d-332c660e92b4"
      },
      "execution_count": null,
      "outputs": [
        {
          "output_type": "stream",
          "name": "stdout",
          "text": [
            "[1 3 5 7 9]\n",
            "[10 30 50 70 90]\n",
            "[0.33333333 1.         1.66666667 2.33333333 3.        ]\n",
            "[-15.          43.           5.         130.66666667  15.        ]\n",
            "3\n",
            "0\n"
          ]
        }
      ]
    },
    {
      "cell_type": "markdown",
      "metadata": {
        "id": "wTkMvK_EE0jy"
      },
      "source": [
        "Jadi, dari hasil operasi numpy di atas, dapat disimpulkan bahwa 5 bilangan ganjil pertama adalah 1,3,5,7,9"
      ]
    },
    {
      "cell_type": "markdown",
      "metadata": {
        "id": "LLIlxgN3Pmwj"
      },
      "source": [
        "# Terimakasih, salam dari Batam"
      ]
    }
  ]
}